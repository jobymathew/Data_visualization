{
 "cells": [
  {
   "cell_type": "code",
   "execution_count": 1,
   "metadata": {},
   "outputs": [],
   "source": [
    "import numpy as np\n",
    "import pandas as pd\n",
    "import matplotlib.pyplot as plt\n",
    "import seaborn as sns\n",
    "import matplotlib\n",
    "sns.set_theme()\n",
    "%matplotlib inline\n",
    "# plt.style.use('presentation.mplstyle')"
   ]
  },
  {
   "cell_type": "code",
   "execution_count": 2,
   "metadata": {},
   "outputs": [
    {
     "data": {
      "text/plain": [
       "Index(['show_id', 'type', 'title', 'director', 'cast', 'country', 'date_added',\n",
       "       'release_year', 'rating', 'duration', 'listed_in', 'description'],\n",
       "      dtype='object')"
      ]
     },
     "execution_count": 2,
     "metadata": {},
     "output_type": "execute_result"
    }
   ],
   "source": [
    "netflix_df = pd.read_csv('netflix_titles.csv')\n",
    "netflix_df.columns"
   ]
  },
  {
   "cell_type": "code",
   "execution_count": 3,
   "metadata": {},
   "outputs": [],
   "source": [
    "def get_value_count(attr):\n",
    "    print(netflix_df[attr].value_counts())"
   ]
  },
  {
   "cell_type": "code",
   "execution_count": 4,
   "metadata": {},
   "outputs": [
    {
     "name": "stdout",
     "output_type": "stream",
     "text": [
      "United States                     2032\n",
      "India                              777\n",
      "United Kingdom                     348\n",
      "Japan                              176\n",
      "Canada                             141\n",
      "                                  ... \n",
      "United States, Canada, Ireland       1\n",
      "United States, South Korea           1\n",
      "Argentina, United States             1\n",
      "Israel, Germany                      1\n",
      "France, Netherlands, Singapore       1\n",
      "Name: country, Length: 554, dtype: int64\n"
     ]
    }
   ],
   "source": [
    "get_value_count('country')"
   ]
  },
  {
   "cell_type": "code",
   "execution_count": 5,
   "metadata": {},
   "outputs": [
    {
     "data": {
      "text/plain": [
       "show_id         False\n",
       "type            False\n",
       "title           False\n",
       "director         True\n",
       "cast             True\n",
       "country          True\n",
       "date_added       True\n",
       "release_year    False\n",
       "rating           True\n",
       "duration        False\n",
       "listed_in       False\n",
       "description     False\n",
       "dtype: bool"
      ]
     },
     "execution_count": 5,
     "metadata": {},
     "output_type": "execute_result"
    }
   ],
   "source": [
    "# Checking if any of the columns have a missing value\n",
    "netflix_df.isnull().any()"
   ]
  },
  {
   "cell_type": "code",
   "execution_count": 6,
   "metadata": {},
   "outputs": [
    {
     "data": {
      "text/plain": [
       "show_id            0\n",
       "type               0\n",
       "title              0\n",
       "director        1969\n",
       "cast             570\n",
       "country          476\n",
       "date_added        11\n",
       "release_year       0\n",
       "rating            10\n",
       "duration           0\n",
       "listed_in          0\n",
       "description        0\n",
       "dtype: int64"
      ]
     },
     "execution_count": 6,
     "metadata": {},
     "output_type": "execute_result"
    }
   ],
   "source": [
    "# Number of missing entries in each column\n",
    "netflix_df.isnull().sum()"
   ]
  },
  {
   "cell_type": "code",
   "execution_count": 7,
   "metadata": {},
   "outputs": [
    {
     "data": {
      "text/plain": [
       "3036"
      ]
     },
     "execution_count": 7,
     "metadata": {},
     "output_type": "execute_result"
    }
   ],
   "source": [
    "# Total number of missing entries\n",
    "netflix_df.isnull().sum().sum()"
   ]
  },
  {
   "cell_type": "code",
   "execution_count": 8,
   "metadata": {},
   "outputs": [],
   "source": [
    "# Imputing the missing data for the categorical attributes with undefined\n",
    "for attr in ['director', 'cast', 'country']:\n",
    "    netflix_df[attr].fillna('Undefined', inplace=True)\n",
    "# Dropping the missing data for the numerical values\n",
    "netflix_df.dropna(subset=['date_added', 'rating'], inplace=True)"
   ]
  },
  {
   "cell_type": "code",
   "execution_count": 9,
   "metadata": {},
   "outputs": [
    {
     "data": {
      "text/plain": [
       "show_id         False\n",
       "type            False\n",
       "title           False\n",
       "director        False\n",
       "cast            False\n",
       "country         False\n",
       "date_added      False\n",
       "release_year    False\n",
       "rating          False\n",
       "duration        False\n",
       "listed_in       False\n",
       "description     False\n",
       "dtype: bool"
      ]
     },
     "execution_count": 9,
     "metadata": {},
     "output_type": "execute_result"
    }
   ],
   "source": [
    "# Checking if the data is clean\n",
    "netflix_df.isnull().any()"
   ]
  },
  {
   "cell_type": "code",
   "execution_count": 10,
   "metadata": {},
   "outputs": [
    {
     "data": {
      "text/plain": [
       "(array([], dtype=int64),)"
      ]
     },
     "execution_count": 10,
     "metadata": {},
     "output_type": "execute_result"
    }
   ],
   "source": [
    "# Checking for the index where we have duplicate rows\n",
    "np.where(netflix_df.duplicated() == True)"
   ]
  },
  {
   "cell_type": "markdown",
   "metadata": {},
   "source": [
    "# Data Visualization"
   ]
  },
  {
   "cell_type": "markdown",
   "metadata": {},
   "source": [
    "  ## Netflix content by Type"
   ]
  },
  {
   "cell_type": "code",
   "execution_count": 32,
   "metadata": {},
   "outputs": [
    {
     "data": {
      "image/png": "[encoded data removed]",
      "text/plain": [
       "<Figure size 864x432 with 1 Axes>"
      ]
     },
     "metadata": {},
     "output_type": "display_data"
    }
   ],
   "source": [
    "# Setting the size for the labels\n",
    "font = {'weight' : 'bold',\n",
    "        'size'   : 25}\n",
    "matplotlib.rc('font', **font)\n",
    "\n",
    "fig = plt.figure(figsize=(12, 6))\n",
    "plt.title('Netflix Content', fontsize=20)\n",
    "piechart = plt.pie(netflix_df.type.value_counts(), # the data (df)\n",
    "                   explode=(0.015, 0.015), # the gap between the pies, we need to define the explode for each of the splits, here only 2\n",
    "                   labels=netflix_df.type.value_counts().index,  # labels of the data \n",
    "                   colors=['#e63946','#264653'], # color for each of the division\n",
    "                   startangle=90, # for rotating the pie chart by the given angle\n",
    "                   autopct='%1.1f%%') # Providing percentage inside the division\n",
    "# getting the percentage divison values and setting their color to white. This will only work if autopct is set in the piechart\n",
    "for division_text in piechart[2]:\n",
    "    division_text.set_color('white')\n",
    "plt.show()"
   ]
  },
  {
   "cell_type": "code",
   "execution_count": null,
   "metadata": {},
   "outputs": [],
   "source": []
  }
 ],
 "metadata": {
  "kernelspec": {
   "display_name": "Python [conda env:tensorflow] *",
   "language": "python",
   "name": "conda-env-tensorflow-py"
  },
  "language_info": {
   "codemirror_mode": {
    "name": "ipython",
    "version": 3
   },
   "file_extension": ".py",
   "mimetype": "text/x-python",
   "name": "python",
   "nbconvert_exporter": "python",
   "pygments_lexer": "ipython3",
   "version": "3.7.9"
  }
 },
 "nbformat": 4,
 "nbformat_minor": 4
}
